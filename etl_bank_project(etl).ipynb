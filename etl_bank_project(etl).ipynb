{
 "cells": [
  {
   "cell_type": "code",
   "execution_count": 2,
   "id": "a28c4570-9b49-4a28-bc82-bc24e36ba2ea",
   "metadata": {},
   "outputs": [
    {
     "name": "stdout",
     "output_type": "stream",
     "text": [
      "Requirement already satisfied: icecream in c:\\anaconda\\lib\\site-packages (2.1.3)\n",
      "Requirement already satisfied: colorama>=0.3.9 in c:\\anaconda\\lib\\site-packages (from icecream) (0.4.6)\n",
      "Requirement already satisfied: pygments>=2.2.0 in c:\\anaconda\\lib\\site-packages (from icecream) (2.15.1)\n",
      "Requirement already satisfied: executing>=0.3.1 in c:\\anaconda\\lib\\site-packages (from icecream) (0.8.3)\n",
      "Requirement already satisfied: asttokens>=2.0.1 in c:\\anaconda\\lib\\site-packages (from icecream) (2.0.5)\n",
      "Requirement already satisfied: six in c:\\anaconda\\lib\\site-packages (from asttokens>=2.0.1->icecream) (1.16.0)\n"
     ]
    }
   ],
   "source": [
    "!pip install icecream"
   ]
  },
  {
   "cell_type": "code",
   "execution_count": 3,
   "id": "fc6ecf9d-29c2-4406-8c7e-44e5d28dae52",
   "metadata": {},
   "outputs": [],
   "source": [
    "from io import StringIO \n",
    "import requests  # for load api\n",
    "from bs4 import BeautifulSoup # for parsing HTML and XML documents\n",
    "import pandas as pd # for transformation\n",
    "import sqlite3 # for load data and make databases\n",
    "from datetime import datetime # \n",
    "from icecream import icecream as ic "
   ]
  },
  {
   "cell_type": "code",
   "execution_count": 5,
   "id": "8a0db28f-405d-4585-b362-271406913532",
   "metadata": {},
   "outputs": [
    {
     "name": "stdout",
     "output_type": "stream",
     "text": [
      "2024-11-26 01:19:34.848210\n"
     ]
    }
   ],
   "source": [
    "x=datetime.now()  #current datatime \n",
    "print(x)"
   ]
  },
  {
   "cell_type": "code",
   "execution_count": null,
   "id": "a95ce2e9-3623-40a2-922a-8e0a33270321",
   "metadata": {},
   "outputs": [],
   "source": [
    "\n",
    "    "
   ]
  },
  {
   "cell_type": "markdown",
   "id": "59c561dc-c94a-4fa8-becd-12a4459400a5",
   "metadata": {},
   "source": [
    "### step 0"
   ]
  },
  {
   "cell_type": "code",
   "execution_count": 6,
   "id": "a4ee6598-6d8b-4e62-bbc4-0ce114ad4dd9",
   "metadata": {},
   "outputs": [],
   "source": [
    "def log_progress(message):\n",
    "    with open('./code_log.txt', 'a') as f:\n",
    "        f.write(f'{datetime.now()}: {message}.\\n')"
   ]
  },
  {
   "cell_type": "markdown",
   "id": "ec8bff08-9e43-4c50-895a-c3b7a0950897",
   "metadata": {},
   "source": [
    "### step 1"
   ]
  },
  {
   "cell_type": "code",
   "execution_count": 7,
   "id": "968f6dcd-7baf-48a2-af39-c205890f3d09",
   "metadata": {},
   "outputs": [],
   "source": [
    "def extract(url,table_att):\n",
    "    soup = requests.get(url).text\n",
    "    web = BeautifulSoup(soup, 'html.parser')\n",
    "    table = web.find('span', string = table_att).find_next('table')\n",
    "    df = pd.read_html(StringIO(str(table)))[0]\n",
    "\n",
    "    log_progress('Data Extracted Successfully form the Wikipedia')\n",
    "\n",
    "    return df"
   ]
  },
  {
   "cell_type": "markdown",
   "id": "b6ad5338-c58d-426e-9d8f-13508cb48ab0",
   "metadata": {},
   "source": [
    "### step 2"
   ]
  },
  {
   "cell_type": "code",
   "execution_count": 8,
   "id": "6a7985d4-c71e-4262-91ec-244a86a1ceb0",
   "metadata": {},
   "outputs": [],
   "source": [
    "def transformation(df, csv_path):\n",
    "    exchange_rate = pd.read_csv(csv_path, index_col = 0).to_dict()['Rate']\n",
    "\n",
    "    df['MC_GBP_Billion'] = round(df['Market cap (US$ billion)']*exchange_rate['GBP'],2)\n",
    "    df['MC_EUR_Billion'] = round(df['Market cap (US$ billion)']*exchange_rate['EUR'],2)\n",
    "    df['MC_INR_Billion'] = round(df['Market cap (US$ billion)']*exchange_rate['INR'],2)\n",
    "\n",
    "    print(df['MC_EUR_Billion'][4])\n",
    "    log_progress('Data Transformation Successfully done, step 2')\n",
    "\n",
    "    return df"
   ]
  },
  {
   "cell_type": "markdown",
   "id": "48947181-ffa2-45af-ade3-96f91cda5f31",
   "metadata": {},
   "source": [
    "### step 3"
   ]
  },
  {
   "cell_type": "code",
   "execution_count": 9,
   "id": "c5a6fd62-13a5-49a9-b02f-478aac2a6ac5",
   "metadata": {},
   "outputs": [],
   "source": [
    "def load_to_csv(df, out_path):\n",
    "    df.to_csv(out_path)\n",
    "\n",
    "    log_progress('Data Loaded into csv, step 3')\n"
   ]
  },
  {
   "cell_type": "markdown",
   "id": "14eb8b76-fdaa-4efe-9f89-f8c7bf76aa09",
   "metadata": {},
   "source": [
    "### step 4"
   ]
  },
  {
   "cell_type": "code",
   "execution_count": 10,
   "id": "510bc260-166f-4476-9665-05c9fee3d807",
   "metadata": {},
   "outputs": [],
   "source": [
    "#sqlite3\n",
    "\n",
    "def load_to_db(df, sql_conn, tn):\n",
    "    df.to_sql(tn, sql_conn, if_exists='replace',index=False)\n",
    "\n",
    "    log_progress('Data Loaded into sqlite3, step 4')\n",
    "\n",
    "def run_query(query_statement, sql_connection):\n",
    "    \"\"\" This function runs the query on the database table and\n",
    "    prints the output on the terminal. Function returns nothing. \"\"\"\n",
    "\n",
    "    cursor = sql_connection.cursor()\n",
    "    cursor.execute(query_statement)\n",
    "    result = cursor.fetchall()\n",
    "\n",
    "    log_progress('Process Complete')\n",
    "\n",
    "    return result"
   ]
  },
  {
   "cell_type": "code",
   "execution_count": 13,
   "id": "1e3b07b3-b8ac-4e4e-ae93-abe8a7f1b78a",
   "metadata": {},
   "outputs": [
    {
     "name": "stdout",
     "output_type": "stream",
     "text": [
      "   Rank                                Bank name  Market cap (US$ billion)\n",
      "0     1                           JPMorgan Chase                    432.92\n",
      "1     2                          Bank of America                    231.52\n",
      "2     3  Industrial and Commercial Bank of China                    194.56\n",
      "3     4               Agricultural Bank of China                    160.68\n",
      "4     5                                HDFC Bank                    157.91\n",
      "5     6                              Wells Fargo                    155.87\n",
      "6     7                        HSBC Holdings PLC                    148.90\n",
      "7     8                           Morgan Stanley                    140.83\n",
      "8     9                  China Construction Bank                    139.82\n",
      "9    10                            Bank of China                    136.81\n",
      "146.86\n",
      "   Rank                                Bank name  Market cap (US$ billion)  \\\n",
      "0     1                           JPMorgan Chase                    432.92   \n",
      "1     2                          Bank of America                    231.52   \n",
      "2     3  Industrial and Commercial Bank of China                    194.56   \n",
      "3     4               Agricultural Bank of China                    160.68   \n",
      "4     5                                HDFC Bank                    157.91   \n",
      "5     6                              Wells Fargo                    155.87   \n",
      "6     7                        HSBC Holdings PLC                    148.90   \n",
      "7     8                           Morgan Stanley                    140.83   \n",
      "8     9                  China Construction Bank                    139.82   \n",
      "9    10                            Bank of China                    136.81   \n",
      "\n",
      "   MC_GBP_Billion  MC_EUR_Billion  MC_INR_Billion  \n",
      "0          346.34          402.62        35910.71  \n",
      "1          185.22          215.31        19204.58  \n",
      "2          155.65          180.94        16138.75  \n",
      "3          128.54          149.43        13328.41  \n",
      "4          126.33          146.86        13098.63  \n",
      "5          124.70          144.96        12929.42  \n",
      "6          119.12          138.48        12351.26  \n",
      "7          112.66          130.97        11681.85  \n",
      "8          111.86          130.03        11598.07  \n",
      "9          109.45          127.23        11348.39  \n"
     ]
    }
   ],
   "source": [
    "if __name__ == '__main__':\n",
    "    url = 'https://web.archive.org/web/20230908091635/https://en.wikipedia.org/wiki/List_of_largest_banks'\n",
    "    output_csv_path = './Largest_banks_data.csv'\n",
    "    database_name = 'Banks.db'\n",
    "    table_name = 'Largest_banks'\n",
    "    \n",
    "    log_progress('Preliminaries complete. Initiating ETL process')\n",
    "\n",
    "    df = extract(url, 'By market capitalization')\n",
    "    log_progress('Extraction complete')\n",
    "    print(df)\n",
    "\n",
    "    df = transformation(df, './datasets/exchange_rate.csv')\n",
    "    log_progress('Extraction complete')\n",
    "    print(df)\n",
    "\n",
    "    load_to_csv(df, output_csv_path)\n",
    "    log_progress('data has been loaded into csv')\n",
    "\n",
    "    with sqlite3.connect(database_name) as conn:\n",
    "        load_to_db(df, conn, table_name)   \n",
    "        log_progress('data has been loaded into sqlite3')\n",
    "        run_query('SELECT * FROM Largest_banks', conn)\n",
    "\n",
    "        run_query('SELECT AVG(MC_GBP_Billion) FROM Largest_banks', conn)\n",
    "\n",
    "        run_query('SELECT \"Bank name\" FROM Largest_banks LIMIT 5', conn)\n",
    "        log_progress('Query run')\n",
    "    \n",
    "    "
   ]
  },
  {
   "cell_type": "code",
   "execution_count": null,
   "id": "75219740-594c-4266-b5a1-9f13eb59b856",
   "metadata": {},
   "outputs": [],
   "source": []
  },
  {
   "cell_type": "code",
   "execution_count": null,
   "id": "7565d960-79c7-4ddc-ad98-578779f639ce",
   "metadata": {},
   "outputs": [],
   "source": []
  },
  {
   "cell_type": "code",
   "execution_count": null,
   "id": "825e129a-c0e9-44a2-a792-25338e049ddb",
   "metadata": {},
   "outputs": [],
   "source": []
  },
  {
   "cell_type": "code",
   "execution_count": null,
   "id": "95dab177-ea0d-4f74-ba07-2e96b827ee9b",
   "metadata": {},
   "outputs": [],
   "source": []
  },
  {
   "cell_type": "code",
   "execution_count": null,
   "id": "4d3d6990-19f4-4672-a104-e7b127599cee",
   "metadata": {},
   "outputs": [],
   "source": []
  },
  {
   "cell_type": "code",
   "execution_count": null,
   "id": "4d5d2ea7-86d1-41a4-82b6-457b3e339394",
   "metadata": {},
   "outputs": [],
   "source": []
  },
  {
   "cell_type": "code",
   "execution_count": null,
   "id": "f3eda279-507f-4a7b-ab65-b19fc017a384",
   "metadata": {},
   "outputs": [],
   "source": []
  },
  {
   "cell_type": "code",
   "execution_count": null,
   "id": "d1700f36-12df-43d5-accd-ac877ef1e50c",
   "metadata": {},
   "outputs": [],
   "source": []
  }
 ],
 "metadata": {
  "kernelspec": {
   "display_name": "Python 3 (ipykernel)",
   "language": "python",
   "name": "python3"
  },
  "language_info": {
   "codemirror_mode": {
    "name": "ipython",
    "version": 3
   },
   "file_extension": ".py",
   "mimetype": "text/x-python",
   "name": "python",
   "nbconvert_exporter": "python",
   "pygments_lexer": "ipython3",
   "version": "3.11.5"
  }
 },
 "nbformat": 4,
 "nbformat_minor": 5
}
